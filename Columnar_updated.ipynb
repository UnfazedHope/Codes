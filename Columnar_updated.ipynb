{
 "cells": [
  {
   "cell_type": "code",
   "execution_count": 2,
   "metadata": {},
   "outputs": [
    {
     "name": "stdout",
     "output_type": "stream",
     "text": [
      "Key:  heaven\n",
      "Message:  ilovemyindia\n"
     ]
    },
    {
     "ename": "AttributeError",
     "evalue": "'str' object has no attribute 'extend'",
     "output_type": "error",
     "traceback": [
      "\u001b[1;31m---------------------------------------------------------------------------\u001b[0m",
      "\u001b[1;31mAttributeError\u001b[0m                            Traceback (most recent call last)",
      "\u001b[1;32m<ipython-input-2-61b2b15517a1>\u001b[0m in \u001b[0;36m<module>\u001b[1;34m\u001b[0m\n\u001b[0;32m     72\u001b[0m \u001b[1;33m\u001b[0m\u001b[0m\n\u001b[0;32m     73\u001b[0m \u001b[1;33m\u001b[0m\u001b[0m\n\u001b[1;32m---> 74\u001b[1;33m \u001b[0menc_msg\u001b[0m \u001b[1;33m=\u001b[0m \u001b[0mencrypt\u001b[0m\u001b[1;33m(\u001b[0m\u001b[0mkey\u001b[0m\u001b[1;33m,\u001b[0m \u001b[0mmessage\u001b[0m\u001b[1;33m)\u001b[0m\u001b[1;33m\u001b[0m\u001b[1;33m\u001b[0m\u001b[0m\n\u001b[0m\u001b[0;32m     75\u001b[0m \u001b[0mprint\u001b[0m\u001b[1;33m(\u001b[0m\u001b[1;34m\"\\nEncrypted Message: \"\u001b[0m\u001b[1;33m,\u001b[0m \u001b[0menc_msg\u001b[0m\u001b[1;33m)\u001b[0m\u001b[1;33m\u001b[0m\u001b[1;33m\u001b[0m\u001b[0m\n\u001b[0;32m     76\u001b[0m \u001b[1;33m\u001b[0m\u001b[0m\n",
      "\u001b[1;32m<ipython-input-2-61b2b15517a1>\u001b[0m in \u001b[0;36mencrypt\u001b[1;34m(key, message)\u001b[0m\n\u001b[0;32m     19\u001b[0m         \u001b[1;32melse\u001b[0m\u001b[1;33m:\u001b[0m\u001b[1;33m\u001b[0m\u001b[1;33m\u001b[0m\u001b[0m\n\u001b[0;32m     20\u001b[0m             \u001b[0mli\u001b[0m \u001b[1;33m=\u001b[0m \u001b[0mmessage\u001b[0m\u001b[1;33m[\u001b[0m\u001b[0mi\u001b[0m\u001b[1;33m:\u001b[0m\u001b[1;33m]\u001b[0m\u001b[1;33m\u001b[0m\u001b[1;33m\u001b[0m\u001b[0m\n\u001b[1;32m---> 21\u001b[1;33m             \u001b[0mli\u001b[0m\u001b[1;33m.\u001b[0m\u001b[0mextend\u001b[0m\u001b[1;33m(\u001b[0m\u001b[1;33m[\u001b[0m\u001b[1;34m'X'\u001b[0m\u001b[1;33m]\u001b[0m\u001b[1;33m*\u001b[0m\u001b[1;33m(\u001b[0m\u001b[0mn\u001b[0m\u001b[1;33m-\u001b[0m\u001b[0mlen\u001b[0m\u001b[1;33m(\u001b[0m\u001b[0mli\u001b[0m\u001b[1;33m)\u001b[0m\u001b[1;33m)\u001b[0m\u001b[1;33m)\u001b[0m\u001b[1;33m\u001b[0m\u001b[1;33m\u001b[0m\u001b[0m\n\u001b[0m\u001b[0;32m     22\u001b[0m             \u001b[0mmat\u001b[0m\u001b[1;33m.\u001b[0m\u001b[0mappend\u001b[0m\u001b[1;33m(\u001b[0m\u001b[0mli\u001b[0m\u001b[1;33m)\u001b[0m\u001b[1;33m\u001b[0m\u001b[1;33m\u001b[0m\u001b[0m\n\u001b[0;32m     23\u001b[0m \u001b[1;33m\u001b[0m\u001b[0m\n",
      "\u001b[1;31mAttributeError\u001b[0m: 'str' object has no attribute 'extend'"
     ]
    }
   ],
   "source": [
    "import math\n",
    "\n",
    "def encrypt(key, message):\n",
    "    key_list = []\n",
    "    for i in key:\n",
    "        if i not in key_list:\n",
    "            key_list.append(i)\n",
    "\n",
    "    mat = [key_list]\n",
    "\n",
    "    n = len(key_list)\n",
    "    m = len(message)\n",
    "    # m = 12 n = 5\n",
    "    # i = 0 , 5, 10\n",
    "    # i + n = 5, 10, 15\n",
    "    for i in range(0, m, n):\n",
    "        if i+n < m:\n",
    "            mat.append(message[i:i+n])\n",
    "        else:\n",
    "            li = message[i:]\n",
    "            li.extend(['X']*(n-len(li)))\n",
    "            mat.append(li)\n",
    "\n",
    "    print(mat)\n",
    "\n",
    "    key_list = sorted(key_list)\n",
    "    print(key_list)\n",
    "    cipher_text = \"\"\n",
    "    for i in key_list:\n",
    "        index = mat[0].index(i)\n",
    "        for j in range(1, len(mat)):\n",
    "            cipher_text += mat[j][index]\n",
    "        # print(cipher_text)\n",
    "\n",
    "    return cipher_text\n",
    "\n",
    "def decrypt(key, message):\n",
    "    key_list = []\n",
    "    for i in key:\n",
    "        if i not in key_list:\n",
    "            key_list.append(i)\n",
    "\n",
    "    n = len(key_list)\n",
    "    m = len(message)\n",
    "    row = m//n\n",
    "\n",
    "    dec_mat = [key_list]\n",
    "    mat = sorted(key_list)\n",
    "    \n",
    "    for i in range(row):\n",
    "        dec_mat.append(['']*n)\n",
    "\n",
    "    ctr = 0\n",
    "\n",
    "    for i in mat:\n",
    "        index = dec_mat[0].index(i)\n",
    "        for j in range(1,row+1):\n",
    "            dec_mat[j][index] = message[ctr] \n",
    "            ctr+=1\n",
    "        print(dec_mat)\n",
    "    text = \"\"\n",
    "    for i in range(1,row+1):\n",
    "        for j in range(n):\n",
    "            text += dec_mat[i][j]\n",
    "    return text\n",
    "\n",
    "key = \"heaven\"\n",
    "message = \"ilovemyindia\"\n",
    "\n",
    "print(\"Key: \", key)\n",
    "print(\"Message: \", message)\n",
    "\n",
    "\n",
    "enc_msg = encrypt(key, message)\n",
    "print(\"\\nEncrypted Message: \", enc_msg)\n",
    "\n",
    "dec_msg = decrypt(key, enc_msg)\n",
    "print(\"\\nDecrypted Message: \", dec_msg)"
   ]
  },
  {
   "cell_type": "code",
   "execution_count": null,
   "metadata": {},
   "outputs": [],
   "source": []
  }
 ],
 "metadata": {
  "kernelspec": {
   "display_name": "Python 3",
   "language": "python",
   "name": "python3"
  },
  "language_info": {
   "codemirror_mode": {
    "name": "ipython",
    "version": 3
   },
   "file_extension": ".py",
   "mimetype": "text/x-python",
   "name": "python",
   "nbconvert_exporter": "python",
   "pygments_lexer": "ipython3",
   "version": "3.7.4"
  }
 },
 "nbformat": 4,
 "nbformat_minor": 2
}
